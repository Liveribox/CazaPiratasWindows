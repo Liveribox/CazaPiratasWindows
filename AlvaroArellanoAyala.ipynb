{
  "nbformat": 4,
  "nbformat_minor": 0,
  "metadata": {
    "colab": {
      "provenance": [],
      "authorship_tag": "ABX9TyP4VkUbZ3iO/QGC+UE2CgMh",
      "include_colab_link": true
    },
    "kernelspec": {
      "name": "python3",
      "display_name": "Python 3"
    },
    "language_info": {
      "name": "python"
    }
  },
  "cells": [
    {
      "cell_type": "markdown",
      "metadata": {
        "id": "view-in-github",
        "colab_type": "text"
      },
      "source": [
        "<a href=\"https://colab.research.google.com/github/Liveribox/CazaPiratasWindows/blob/main/AlvaroArellanoAyala.ipynb\" target=\"_parent\"><img src=\"https://colab.research.google.com/assets/colab-badge.svg\" alt=\"Open In Colab\"/></a>"
      ]
    },
    {
      "cell_type": "code",
      "execution_count": null,
      "metadata": {
        "id": "KEDE0BTHL8rR"
      },
      "outputs": [],
      "source": [
        "import numpy as np\n",
        "import pandas as pd\n",
        "import csv\n",
        "\n",
        "class Producto:\n",
        "    def __init__(self, nombre, categoria, precio_unitario,cantidad_vendida):\n",
        "        self.nombre = nombre\n",
        "        self.categoria = categoria\n",
        "        self.precio_unitario = precio_unitario\n",
        "        self.cantidad_vendida = cantidad_vendida\n",
        "\n",
        "\n",
        "    def __str__(self):\n",
        "        return f\"Nombre: {self.nombre}, Categoria: {self.categoria}, Precio Unitario: {self.precio_unitario}, Cantidad Vendida: {self.cantidad_vendida}\"\n",
        "\n",
        "\n",
        "\n",
        "class GestorVentas(Producto):\n",
        "    def __init__(self):\n",
        "        self.productos = []\n",
        "\n",
        "    def agregar_producto(self, producto):\n",
        "        self.productos.append(producto)\n",
        "\n",
        "    def guardar_csv(self,fichero):\n",
        "        with open(fichero, \"a\") as archivo:\n",
        "            archivo.write(\"Nombre,Categoria,Precio,Cantidad\\n\")\n",
        "            for producto in self.productos:\n",
        "                archivo.write(f\"{producto.nombre},{producto.categoria},{producto.precio_unitario},{producto.cantidad_vendida}\\n\")\n",
        "\n",
        "\n",
        "try:\n",
        "\n",
        "  p1 = Producto(\"Laptop\", \"Electrónica\", 1200, 5)\n",
        "  p2 = Producto(\"Móvil\", \"Electrónica\", 800, 10)\n",
        "\n",
        "  gestor = GestorVentas()\n",
        "\n",
        "  gestor.agregar_producto(p1)\n",
        "  gestor.agregar_producto(p2)\n",
        "  gestor.guardar_csv(\"ventas.csv\")\n",
        "\n",
        "  with open(\"ventas.csv\",\"r\") as archivo:\n",
        "    lista = []\n",
        "    listaDos = []\n",
        "    archivoo = csv.DictReader(archivo)\n",
        "    for linea in archivoo:\n",
        "      lista.append(linea[\"Precio\"])\n",
        "      listaDos.append(linea[\"Cantidad\"])\n",
        "\n",
        "\n",
        "  array = np.array([int(lista[0]),int(lista[1])])\n",
        "\n",
        "  print(f\"Media {np.mean(array)}\")\n",
        "  print(f\"Mas caro: {np.max(array)}\")\n",
        "  print(f\"Mas barato: {np.min(array)}\")\n",
        "  print(f\"Cantidad Total: {np.sum(array[0]*int(listaDos[0]))+array[1]*int(listaDos[1])}\")\n",
        "\n",
        "  archivocsvpandas = pd.read_csv(\"ventas.csv\")\n",
        "  archivocsvpandas.dropna\n",
        "  archivocsvpandas.drop_duplicates\n",
        "\n",
        "  archivocsvpandas[\"Total Venta\"] = archivocsvpandas[\"Precio\"].astype(int) *archivocsvpandas[\"Cantidad\"].astype(int)\n",
        "  print(archivocsvpandas)\n",
        "\n",
        "  categoriamayor = archivocsvpandas[\"Categoria\"].max(archivocsvpandas[\"Total Venta\"])\n",
        "  print(categoriamayor)\n",
        "\n",
        "  dinerototal = archivocsvpandas[\"Total Venta\"].sum()\n",
        "  print(f\"Dinero total: {dinerototal}\")\n",
        "\n",
        "\n",
        "except FileExistsError:\n",
        "    print(\"Error: El archivo ya existe.\")\n",
        "except FileNotFoundError:\n",
        "    print(\"Error: El archivo no se encontró.\")\n",
        "except Exception as e:\n",
        "    print(f\"Error: {e}\")"
      ]
    }
  ]
}